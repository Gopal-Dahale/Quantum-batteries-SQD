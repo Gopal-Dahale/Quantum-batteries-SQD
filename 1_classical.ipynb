{
 "cells": [
  {
   "cell_type": "code",
   "execution_count": 4,
   "id": "213364a0-524a-4fdf-8d2b-108789b9f828",
   "metadata": {},
   "outputs": [],
   "source": [
    "import json\n",
    "from tangelo import SecondQuantizedMolecule\n",
    "from tangelo.toolboxes.molecular_computation.integral_solver_pyscf import mol_to_pyscf, IntegralSolverPySCF\n",
    "from tangelo.toolboxes.molecular_computation.frozen_orbitals import get_orbitals_excluding_homo_lumo\n",
    "from time import time\n",
    "from tangelo.algorithms import VQESolver, CCSDSolver, FCISolver\n",
    "from tangelo.toolboxes.qubit_mappings.mapping_transform import fermion_to_qubit_mapping\n",
    "from tangelo.toolboxes.operators import count_qubits\n",
    "import matplotlib.pyplot as plt\n",
    "import pickle\n",
    "import os\n",
    "import numpy as np"
   ]
  },
  {
   "cell_type": "code",
   "execution_count": 5,
   "id": "f72467ef-a4b1-4b3e-843a-c1b1aeda179d",
   "metadata": {},
   "outputs": [],
   "source": [
    "def get_fractional_to_cartesian_matrix(a, b, c, alpha, beta, gamma,\n",
    "                                       angle_in_degrees=True):\n",
    "    if angle_in_degrees:\n",
    "        # Convert angles to radians\n",
    "        alpha = np.radians(alpha)\n",
    "        beta = np.radians(beta)\n",
    "        gamma = np.radians(gamma)\n",
    "        \n",
    "    lattice_a = np.array([a, 0, 0])\n",
    "    lattice_b = np.array([b * np.cos(gamma), b * np.sin(gamma), 0])\n",
    "\n",
    "    n2 = (np.cos(alpha) - np.cos(beta) * np.cos(gamma)) / np.sin(gamma)\n",
    "    lattice_c = c * np.array([\n",
    "        np.cos(beta),\n",
    "        n2,\n",
    "        np.sqrt(1 - np.cos(alpha)**2 - np.cos(beta)**2 - np.cos(gamma)**2 + 2*np.cos(alpha)*np.cos(beta)*np.cos(gamma)) / np.sin(gamma) \n",
    "    ])\n",
    "\n",
    "    return np.array([lattice_a, lattice_b, lattice_c]).T"
   ]
  },
  {
   "cell_type": "code",
   "execution_count": 6,
   "id": "e2166bdf-be25-44cc-ad86-252c3cd5554b",
   "metadata": {},
   "outputs": [],
   "source": [
    "f = open('Li2FeSiO4.cif') # Li₂FeSiO₄\n",
    "data = f.readlines()\n",
    "data_lines = data[-16:]\n",
    "\n",
    "def process(line):\n",
    "    res = line.strip().split()\n",
    "    atom = res[0][:-1]\n",
    "    pos = [float(res[3]), float(res[4]), float(res[5])]\n",
    "\n",
    "    if atom != 'Li':\n",
    "        atom = atom[:-1]\n",
    "    return (atom, pos)\n",
    "\n",
    "res = list(map(process, data_lines))\n",
    "\n",
    "symbols = [i[0] for i in res]\n",
    "coords = [i[1] for i in res]"
   ]
  },
  {
   "cell_type": "code",
   "execution_count": 7,
   "id": "5eff9344-0e1b-48c8-abaf-0c3e3c78743f",
   "metadata": {},
   "outputs": [
    {
     "data": {
      "text/plain": [
       "{'a': 5.132302,\n",
       " 'b': 11.037342,\n",
       " 'c': 6.23237968,\n",
       " 'alpha': 90.0,\n",
       " 'beta': 91.30707992,\n",
       " 'gamma': 90.0}"
      ]
     },
     "execution_count": 7,
     "metadata": {},
     "output_type": "execute_result"
    }
   ],
   "source": [
    "lattice_info = {}\n",
    "for i in data[3:9]:\n",
    "    res = i.strip().split()\n",
    "    lattice_info[res[0].split('_')[-1]] = float(res[1])\n",
    "\n",
    "lattice_info"
   ]
  },
  {
   "cell_type": "code",
   "execution_count": 8,
   "id": "63a07729-890f-4bb8-93e4-94d3174cd035",
   "metadata": {},
   "outputs": [],
   "source": [
    "M = get_fractional_to_cartesian_matrix(*list(lattice_info.values()))\n",
    "coords = (M @ (np.array(coords).T)).T"
   ]
  },
  {
   "cell_type": "code",
   "execution_count": 9,
   "id": "ab98eac1-9d9e-4c83-8da9-c48d479d09cc",
   "metadata": {},
   "outputs": [],
   "source": [
    "geometry = \"\"\n",
    "for i, symbol in enumerate(symbols):\n",
    "    geometry += f\"{symbol} {coords[i][0]} {coords[i][1]} {coords[i][2]}\\n\""
   ]
  },
  {
   "cell_type": "code",
   "execution_count": 10,
   "id": "d2fdae0a-15b5-4ea1-874c-e4e2fe72701e",
   "metadata": {},
   "outputs": [],
   "source": [
    "class MyIntegralSolverPySCF(IntegralSolverPySCF):\n",
    "    def compute_mean_field(self, sqmol):\n",
    "        molecule = mol_to_pyscf(sqmol, sqmol.basis, sqmol.symmetry, sqmol.ecp)\n",
    "\n",
    "        sqmol.mean_field = self.scf.RHF(molecule) if not sqmol.uhf else self.scf.UHF(molecule)\n",
    "        sqmol.mean_field.verbose = 0\n",
    "        sqmol.mean_field.conv_tol = 1e-5\n",
    "        \n",
    "        self.chkfile = 'mf_chkfile'\n",
    "        sqmol.mean_field.chkfile = self.chkfile\n",
    "        chkfile_found=True\n",
    "\n",
    "        # Force broken symmetry for uhf calculation when spin is 0 as shown in\n",
    "        # https://github.com/sunqm/pyscf/blob/master/examples/scf/32-break_spin_symm.py\n",
    "        if sqmol.uhf and sqmol.spin == 0 and not chkfile_found:\n",
    "            dm_alpha, dm_beta = sqmol.mean_field.get_init_guess()\n",
    "            dm_beta[:1, :] = 0\n",
    "            dm = (dm_alpha, dm_beta)\n",
    "            sqmol.mean_field.kernel(dm)\n",
    "        else:\n",
    "            sqmol.mean_field.init_guess = \"chkfile\" if chkfile_found else \"minao\"\n",
    "            sqmol.mean_field.kernel()\n",
    "\n",
    "        sqmol.mean_field.analyze()\n",
    "        if not sqmol.mean_field.converged:\n",
    "            raise ValueError(\"Hartree-Fock calculation did not converge\")\n",
    "\n",
    "        if sqmol.symmetry:\n",
    "            self.assign_mo_coeff_symmetries(sqmol)\n",
    "        else:\n",
    "            sqmol.mo_symm_ids = None\n",
    "            sqmol.mo_symm_labels = None\n",
    "\n",
    "        sqmol.mf_energy = sqmol.mean_field.e_tot\n",
    "        sqmol.mo_energies = sqmol.mean_field.mo_energy\n",
    "        sqmol.mo_occ = sqmol.mean_field.mo_occ\n",
    "\n",
    "        sqmol.n_mos = molecule.nao_nr()\n",
    "        sqmol.n_sos = 2*sqmol.n_mos\n",
    "\n",
    "        self.mo_coeff = sqmol.mean_field.mo_coeff\n",
    "\n",
    "\n",
    "class MySQMol(SecondQuantizedMolecule):    \n",
    "    def __post_init__(self):\n",
    "        self.solver = MyIntegralSolverPySCF()\n",
    "        self.solver.set_physical_data(self)\n",
    "        self.solver.compute_mean_field(self)\n",
    "        self.freeze_mos(self.frozen_orbitals)"
   ]
  },
  {
   "cell_type": "code",
   "execution_count": 11,
   "id": "bb397281-7f8a-49c5-bbca-828b4e3546ae",
   "metadata": {},
   "outputs": [
    {
     "name": "stdout",
     "output_type": "stream",
     "text": [
      "CPU times: user 15.2 s, sys: 3.25 s, total: 18.5 s\n",
      "Wall time: 2.58 s\n"
     ]
    }
   ],
   "source": [
    "%%time\n",
    "mol = MySQMol(geometry, q=0, spin=0, basis=\"sto3g\", frozen_orbitals=\"frozen_core\")"
   ]
  },
  {
   "cell_type": "code",
   "execution_count": 12,
   "id": "b078fdb1-04c6-4fdb-84b7-18eb16919699",
   "metadata": {},
   "outputs": [
    {
     "name": "stdout",
     "output_type": "stream",
     "text": [
      "92 active molecular orbitals\n",
      "112 active electrons\n"
     ]
    }
   ],
   "source": [
    "print(f\"{mol.n_active_mos} active molecular orbitals\")\n",
    "print(f\"{mol.n_active_electrons} active electrons\")"
   ]
  },
  {
   "cell_type": "code",
   "execution_count": 21,
   "id": "25507ca6-739d-44dd-99c5-6ec8c83f7d3a",
   "metadata": {
    "scrolled": true
   },
   "outputs": [
    {
     "name": "stdout",
     "output_type": "stream",
     "text": [
      "4 active molecular orbitals\n",
      "4 active electrons\n",
      "8 361\n",
      "1 Duration: 13.445460796356201\n",
      "6 active molecular orbitals\n",
      "6 active electrons\n",
      "12 1819\n",
      "2 Duration: 13.691912174224854\n",
      "8 active molecular orbitals\n",
      "8 active electrons\n",
      "16 5793\n",
      "3 Duration: 15.373250722885132\n",
      "10 active molecular orbitals\n",
      "10 active electrons\n",
      "20 14251\n",
      "4 Duration: 19.341141939163208\n",
      "12 active molecular orbitals\n",
      "12 active electrons\n",
      "24 29737\n",
      "5 Duration: 39.64786171913147\n",
      "14 active molecular orbitals\n",
      "14 active electrons\n",
      "28 55363\n",
      "6 Duration: 77.60722613334656\n",
      "16 active molecular orbitals\n",
      "16 active electrons\n",
      "32 94841\n",
      "7 Duration: 110.084951877594\n",
      "18 active molecular orbitals\n",
      "18 active electrons\n",
      "36 152415\n",
      "8 Duration: 107.71771240234375\n",
      "20 active molecular orbitals\n",
      "20 active electrons\n",
      "40 232949\n",
      "9 Duration: 174.40698313713074\n"
     ]
    }
   ],
   "source": [
    "qubit_reqs = []\n",
    "num_terms = []\n",
    "\n",
    "qu_ops = []\n",
    "\n",
    "for level in range(1, 10):\n",
    "\n",
    "    start = time()\n",
    "    _frozen_orbitals = get_orbitals_excluding_homo_lumo(mol, homo_minus_n=level, lumo_plus_n=level)\n",
    "    _frozen_mol = mol.freeze_mos(_frozen_orbitals, inplace=False)\n",
    "\n",
    "    print(f\"{_frozen_mol.n_active_mos} active molecular orbitals\")\n",
    "    print(f\"{_frozen_mol.n_active_electrons} active electrons\")\n",
    "    \n",
    "    qu_op = fermion_to_qubit_mapping(_frozen_mol.fermionic_hamiltonian, mapping=\"JW\", \n",
    "                                 n_spinorbitals=_frozen_mol.n_active_sos, n_electrons=_frozen_mol.n_active_electrons, \n",
    "                                 spin=_frozen_mol.spin, up_then_down=False)\n",
    "\n",
    "    qubit_reqs.append(count_qubits(qu_op))\n",
    "    num_terms.append(len(qu_op.terms))\n",
    "    qu_ops.append(qu_op)\n",
    "\n",
    "    print(count_qubits(qu_op), num_terms[-1])\n",
    "    del qu_op, _frozen_mol, _frozen_orbitals\n",
    "    \n",
    "    print(level, \"Duration:\", time() - start)"
   ]
  },
  {
   "cell_type": "code",
   "execution_count": 27,
   "id": "998ea525-19c8-4189-9f5a-c5d0acaddb80",
   "metadata": {},
   "outputs": [
    {
     "data": {
      "image/png": "[encoded data removed]",
      "text/plain": [
       "<Figure size 1200x500 with 2 Axes>"
      ]
     },
     "metadata": {},
     "output_type": "display_data"
    }
   ],
   "source": [
    "xticks = [4, 6, 8, 10, 12, 14, 16, 18, 20]\n",
    "fig,ax = plt.subplots(1,2,figsize=(12,5))\n",
    "ax[0].plot(xticks, qubit_reqs, marker='o')\n",
    "ax[0].set_xlabel('# Active Orbitals', fontsize=12)\n",
    "ax[0].set_ylabel('# qubits', fontsize=12)\n",
    "ax[0].set_xticks(xticks)\n",
    "ax[0].set_yticks(qubit_reqs)\n",
    "ax[0].set_xticklabels(xticks, fontsize=12)\n",
    "ax[0].set_yticklabels(qubit_reqs, fontsize=12)\n",
    "\n",
    "ax[1].plot(xticks, num_terms, marker='o', color='green')\n",
    "ax[1].set_xlabel('# Active Orbitals', fontsize=12)\n",
    "ax[1].set_ylabel('# Ham terms', fontsize=12)\n",
    "ax[1].set_xticks(xticks)\n",
    "ax[1].set_yticks(num_terms)\n",
    "ax[1].set_xticklabels(xticks, fontsize=12)\n",
    "ax[1].set_yticklabels(num_terms, fontsize=12);\n",
    "plt.savefig('results/scaling.png', dpi=300)"
   ]
  },
  {
   "cell_type": "code",
   "execution_count": 29,
   "id": "a3a2af75-7359-4d42-a0e9-71018097e630",
   "metadata": {},
   "outputs": [],
   "source": [
    "hams_dict = {}\n",
    "\n",
    "for i, level in enumerate(range(1,10)):\n",
    "    coeffs = []\n",
    "    term_list = []\n",
    "    qu_op = qu_ops[i]\n",
    "    n_qubits = count_qubits(qu_op)\n",
    "    for term, coeff in qu_op.terms.items():\n",
    "        coeffs.append(coeff.real)\n",
    "        pauli_string = ['I']*n_qubits\n",
    "        for i, p in term:\n",
    "            pauli_string[i] = p\n",
    "        pauli_string = ''.join(pauli_string)\n",
    "        term_list.append(pauli_string)\n",
    "    hams_dict[level] = {'coeffs':coeffs.copy(), 'terms': term_list.copy()}"
   ]
  },
  {
   "cell_type": "code",
   "execution_count": 30,
   "id": "c8e90913-5580-419c-9672-a513f6ec89d3",
   "metadata": {},
   "outputs": [],
   "source": [
    "with open('results/hams.pickle', 'wb') as handle:\n",
    "    pickle.dump(hams_dict, handle, protocol=pickle.HIGHEST_PROTOCOL)"
   ]
  },
  {
   "cell_type": "code",
   "execution_count": 51,
   "id": "2332aef8-8c3a-4c47-83fa-ac0214e5cfb6",
   "metadata": {
    "scrolled": true
   },
   "outputs": [
    {
     "name": "stdout",
     "output_type": "stream",
     "text": [
      "4 active molecular orbitals\n",
      "4 active electrons\n",
      "1 CCSD Energy: -3687.9345081094243\n",
      "--------------------------------------------------\n",
      "1 Duration: 1.352043867111206\n",
      "6 active molecular orbitals\n",
      "6 active electrons\n",
      "2 CCSD Energy: -3687.936507061506\n",
      "--------------------------------------------------\n",
      "2 Duration: 1.370079755783081\n",
      "8 active molecular orbitals\n",
      "8 active electrons\n",
      "3 CCSD Energy: -3688.046245761765\n",
      "--------------------------------------------------\n",
      "3 Duration: 2.2782657146453857\n",
      "10 active molecular orbitals\n",
      "10 active electrons\n",
      "4 CCSD Energy: -3688.0553215284176\n",
      "--------------------------------------------------\n",
      "4 Duration: 2.4570960998535156\n",
      "12 active molecular orbitals\n",
      "12 active electrons\n",
      "5 CCSD Energy: -3688.072406703199\n",
      "--------------------------------------------------\n",
      "5 Duration: 3.1005048751831055\n",
      "14 active molecular orbitals\n",
      "14 active electrons\n",
      "6 CCSD Energy: -3688.1833559195675\n",
      "--------------------------------------------------\n",
      "6 Duration: 5.409244060516357\n",
      "16 active molecular orbitals\n",
      "16 active electrons\n",
      "7 CCSD Energy: -3688.23705603126\n",
      "--------------------------------------------------\n",
      "7 Duration: 5.520371198654175\n",
      "18 active molecular orbitals\n",
      "18 active electrons\n",
      "8 CCSD Energy: -3688.3307757111597\n",
      "--------------------------------------------------\n",
      "8 Duration: 5.647358655929565\n",
      "20 active molecular orbitals\n",
      "20 active electrons\n",
      "9 CCSD Energy: -3688.365745880511\n",
      "--------------------------------------------------\n",
      "9 Duration: 5.955981969833374\n",
      "22 active molecular orbitals\n",
      "22 active electrons\n",
      "10 CCSD Energy: -3688.388667894954\n",
      "--------------------------------------------------\n",
      "10 Duration: 5.721013069152832\n",
      "24 active molecular orbitals\n",
      "24 active electrons\n",
      "11 CCSD Energy: -3688.4106514022446\n",
      "--------------------------------------------------\n",
      "11 Duration: 7.782463788986206\n",
      "26 active molecular orbitals\n",
      "26 active electrons\n",
      "12 CCSD Energy: -3688.450208460831\n",
      "--------------------------------------------------\n",
      "12 Duration: 7.777713775634766\n",
      "28 active molecular orbitals\n",
      "28 active electrons\n",
      "13 CCSD Energy: -3688.473520977765\n",
      "--------------------------------------------------\n",
      "13 Duration: 8.103726387023926\n",
      "30 active molecular orbitals\n",
      "30 active electrons\n",
      "14 CCSD Energy: -3688.511008550593\n",
      "--------------------------------------------------\n",
      "14 Duration: 8.25667405128479\n",
      "32 active molecular orbitals\n",
      "32 active electrons\n",
      "15 CCSD Energy: -3688.535424053562\n",
      "--------------------------------------------------\n",
      "15 Duration: 8.383910655975342\n",
      "34 active molecular orbitals\n",
      "34 active electrons\n",
      "16 CCSD Energy: -3688.5624978186884\n",
      "--------------------------------------------------\n",
      "16 Duration: 8.995025157928467\n",
      "36 active molecular orbitals\n",
      "36 active electrons\n",
      "17 CCSD Energy: -3688.596155037215\n",
      "--------------------------------------------------\n",
      "17 Duration: 9.559046030044556\n",
      "38 active molecular orbitals\n",
      "38 active electrons\n",
      "18 CCSD Energy: -3688.627837011265\n",
      "--------------------------------------------------\n",
      "18 Duration: 9.971367120742798\n",
      "40 active molecular orbitals\n",
      "40 active electrons\n",
      "19 CCSD Energy: -3688.653215029268\n",
      "--------------------------------------------------\n",
      "19 Duration: 10.958333253860474\n",
      "42 active molecular orbitals\n",
      "42 active electrons\n",
      "20 CCSD Energy: -3688.6986080001143\n",
      "--------------------------------------------------\n",
      "20 Duration: 11.824417352676392\n",
      "44 active molecular orbitals\n",
      "44 active electrons\n",
      "21 CCSD Energy: -3688.7498733465154\n",
      "--------------------------------------------------\n",
      "21 Duration: 12.812985181808472\n",
      "46 active molecular orbitals\n",
      "46 active electrons\n",
      "22 CCSD Energy: -3688.7555794025907\n",
      "--------------------------------------------------\n",
      "22 Duration: 14.120813369750977\n",
      "48 active molecular orbitals\n",
      "48 active electrons\n",
      "23 CCSD Energy: -3688.7636379305955\n",
      "--------------------------------------------------\n",
      "23 Duration: 15.406019687652588\n",
      "50 active molecular orbitals\n",
      "50 active electrons\n",
      "24 CCSD Energy: -3688.8018207952896\n",
      "--------------------------------------------------\n",
      "24 Duration: 16.887250185012817\n"
     ]
    }
   ],
   "source": [
    "qubit_reqs = []\n",
    "num_terms = []\n",
    "\n",
    "qu_ops = []\n",
    "energies = []\n",
    "num_active_obs = []\n",
    "\n",
    "t1s = []\n",
    "t2s = []\n",
    "\n",
    "for level in range(1, 25):\n",
    "\n",
    "    _frozen_orbitals = get_orbitals_excluding_homo_lumo(mol, homo_minus_n=level, lumo_plus_n=level)\n",
    "    _frozen_mol = mol.freeze_mos(_frozen_orbitals, inplace=False)\n",
    "\n",
    "    print(f\"{_frozen_mol.n_active_mos} active molecular orbitals\")\n",
    "    print(f\"{_frozen_mol.n_active_electrons} active electrons\")\n",
    "\n",
    "    num_active_obs.append(_frozen_mol.n_active_mos)\n",
    "\n",
    "    start = time()\n",
    "    # fci_solver = FCISolver(_frozen_mol)\n",
    "    # fci_energy = fci_solver.simulate()\n",
    "    # print(f\"{level} FCI Energy:\", fci_energy)\n",
    "\n",
    "    # energies.append(fci_energy)\n",
    "\n",
    "    ccsd_solver = CCSDSolver(_frozen_mol)\n",
    "    ccsd_energy = ccsd_solver.simulate()\n",
    "    print(f\"{level} CCSD Energy:\", ccsd_energy)\n",
    "\n",
    "    energies.append(ccsd_energy)\n",
    "    \n",
    "    t1s.append(ccsd_solver.solver.cc_fragment.t1)\n",
    "    t2s.append(ccsd_solver.solver.cc_fragment.t2)\n",
    "    \n",
    "    print('-'*50)\n",
    "    \n",
    "    del _frozen_mol, _frozen_orbitals\n",
    "    \n",
    "    print(level, \"Duration:\", time() - start)"
   ]
  },
  {
   "cell_type": "code",
   "execution_count": 55,
   "id": "de8172e5-6029-464f-8eeb-c1403775557c",
   "metadata": {},
   "outputs": [
    {
     "data": {
      "text/plain": [
       "['__annotations__',\n",
       " '__class__',\n",
       " '__dataclass_fields__',\n",
       " '__dataclass_params__',\n",
       " '__delattr__',\n",
       " '__dict__',\n",
       " '__dir__',\n",
       " '__doc__',\n",
       " '__eq__',\n",
       " '__format__',\n",
       " '__ge__',\n",
       " '__getattribute__',\n",
       " '__gt__',\n",
       " '__hash__',\n",
       " '__init__',\n",
       " '__init_subclass__',\n",
       " '__le__',\n",
       " '__lt__',\n",
       " '__match_args__',\n",
       " '__module__',\n",
       " '__ne__',\n",
       " '__new__',\n",
       " '__post_init__',\n",
       " '__reduce__',\n",
       " '__reduce_ex__',\n",
       " '__repr__',\n",
       " '__setattr__',\n",
       " '__sizeof__',\n",
       " '__slotnames__',\n",
       " '__str__',\n",
       " '__subclasshook__',\n",
       " '__weakref__',\n",
       " '_get_active_space_integrals_uhf',\n",
       " '_get_fermionic_hamiltonian',\n",
       " '_get_molecular_hamiltonian_uhf',\n",
       " 'active_mos',\n",
       " 'active_occupied',\n",
       " 'active_spin',\n",
       " 'active_virtual',\n",
       " 'basis',\n",
       " 'coords',\n",
       " 'ecp',\n",
       " 'elements',\n",
       " 'energy_from_rdms',\n",
       " 'fermionic_hamiltonian',\n",
       " 'freeze_mos',\n",
       " 'frozen_mos',\n",
       " 'frozen_occupied',\n",
       " 'frozen_orbitals',\n",
       " 'frozen_virtual',\n",
       " 'get_active_space_integrals',\n",
       " 'get_full_space_integrals',\n",
       " 'get_integrals',\n",
       " 'mean_field',\n",
       " 'mf_energy',\n",
       " 'mo_coeff',\n",
       " 'mo_energies',\n",
       " 'mo_occ',\n",
       " 'mo_symm_ids',\n",
       " 'mo_symm_labels',\n",
       " 'n_active_ab_electrons',\n",
       " 'n_active_electrons',\n",
       " 'n_active_mos',\n",
       " 'n_active_sos',\n",
       " 'n_atoms',\n",
       " 'n_electrons',\n",
       " 'n_mos',\n",
       " 'n_sos',\n",
       " 'q',\n",
       " 'solver',\n",
       " 'spin',\n",
       " 'symmetry',\n",
       " 'to_file',\n",
       " 'to_openfermion',\n",
       " 'uhf',\n",
       " 'xyz']"
      ]
     },
     "execution_count": 55,
     "metadata": {},
     "output_type": "execute_result"
    }
   ],
   "source": [
    "dir(mol)"
   ]
  },
  {
   "cell_type": "code",
   "execution_count": null,
   "id": "69c27a8a-2c92-44ac-a188-eaa262f6783a",
   "metadata": {},
   "outputs": [],
   "source": []
  },
  {
   "cell_type": "code",
   "execution_count": 52,
   "id": "d824711b-7e0a-4025-9c67-23421cbaac19",
   "metadata": {},
   "outputs": [],
   "source": [
    "amplitudes = [t1s, t2s]\n",
    "with open('results/amplitudes.pickle', 'wb') as handle:\n",
    "    pickle.dump(amplitudes, handle, protocol=pickle.HIGHEST_PROTOCOL)"
   ]
  },
  {
   "cell_type": "code",
   "execution_count": 19,
   "id": "16b99bee-ae81-4710-ae2c-34c5e78ea9e2",
   "metadata": {},
   "outputs": [],
   "source": [
    "# ccsd_res = np.array([\n",
    "#     num_active_obs,\n",
    "#     energies\n",
    "# ])\n",
    "\n",
    "# with open('results/ccsd_res.npy', 'wb') as f:\n",
    "#     np.save(f,ccsd_res)"
   ]
  },
  {
   "cell_type": "code",
   "execution_count": 20,
   "id": "e3889f65-fe36-4215-800c-9ab0a4ed4eba",
   "metadata": {},
   "outputs": [],
   "source": [
    "# fci_res = [-3687.934503793257, -3687.9365130840906, -3688.0463027147557, -3688.05601403579, -3688.073128288608, -3688.1852283447315]\n",
    "# norbs = [4, 6, 8,10, 12, 14]\n",
    "\n",
    "# fci_res = np.array([\n",
    "#     norbs,\n",
    "#     fci_res\n",
    "# ])\n",
    "\n",
    "# with open('results/fci_res.npy', 'wb') as f:\n",
    "#     np.save(f,fci_res)"
   ]
  },
  {
   "cell_type": "code",
   "execution_count": 3,
   "id": "b8e929a2-da6a-48dc-a134-46d0c76982aa",
   "metadata": {},
   "outputs": [],
   "source": [
    "import numpy as np\n",
    "import matplotlib.pyplot as plt\n",
    "\n",
    "with open('results/ccsd_res.npy', 'rb') as f:\n",
    "    ccsd_res = np.load(f)\n",
    "\n",
    "with open('results/fci_res.npy', 'rb') as f:\n",
    "    fci_res = np.load(f)"
   ]
  },
  {
   "cell_type": "code",
   "execution_count": 4,
   "id": "7b4f73c0-4f24-4d14-997f-aa283947aa48",
   "metadata": {},
   "outputs": [
    {
     "data": {
      "image/png": "[encoded data removed]",
      "text/plain": [
       "<Figure size 640x480 with 1 Axes>"
      ]
     },
     "metadata": {},
     "output_type": "display_data"
    }
   ],
   "source": [
    "plt.plot(ccsd_res[0], ccsd_res[1], marker='v', label='ccsd', fillstyle='none')\n",
    "plt.plot(fci_res[0], fci_res[1], marker='o', label='fci',fillstyle='none')\n",
    "plt.legend()\n",
    "plt.savefig('results/classical.png', dpi=300)"
   ]
  },
  {
   "cell_type": "code",
   "execution_count": null,
   "id": "10a38633-1a62-49d5-933a-09c21e8ba586",
   "metadata": {},
   "outputs": [],
   "source": []
  }
 ],
 "metadata": {
  "kernelspec": {
   "display_name": "Python (jetix)",
   "language": "python",
   "name": "jetix"
  },
  "language_info": {
   "codemirror_mode": {
    "name": "ipython",
    "version": 3
   },
   "file_extension": ".py",
   "mimetype": "text/x-python",
   "name": "python",
   "nbconvert_exporter": "python",
   "pygments_lexer": "ipython3",
   "version": "3.10.0"
  }
 },
 "nbformat": 4,
 "nbformat_minor": 5
}
